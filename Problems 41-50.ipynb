{
 "cells": [
  {
   "cell_type": "code",
   "execution_count": 88,
   "metadata": {},
   "outputs": [],
   "source": [
    "import Data.List"
   ]
  },
  {
   "cell_type": "markdown",
   "metadata": {},
   "source": [
    "### Problem 46, 47, 48"
   ]
  },
  {
   "cell_type": "code",
   "execution_count": 1,
   "metadata": {},
   "outputs": [],
   "source": [
    "and' a b = a && b\n",
    "or' a b = a || b\n",
    "nand' a b = not (a && b)\n",
    "xor' a b = case (a, b) of\n",
    "    (0, 0) -> False\n",
    "    (0, 1) -> True\n",
    "    (1, 0) -> True\n",
    "    (1, 1) -> False\n",
    "impl' a b = case (a, b) of\n",
    "    (0, 0) -> True\n",
    "    (0, 1) -> True\n",
    "    (1, 0) -> False\n",
    "    (1, 1) -> True\n",
    "equ' a b = a == b"
   ]
  },
  {
   "cell_type": "raw",
   "metadata": {},
   "source": [
    "λ> table (\\a b -> (and' a (or' a b)))\n",
    "True True True\n",
    "True False True\n",
    "False True False\n",
    "False False False"
   ]
  },
  {
   "cell_type": "code",
   "execution_count": 9,
   "metadata": {},
   "outputs": [],
   "source": [
    "powerset [] = [[]]\n",
    "powerset (x:xs) = powerset xs ++ [x:k | k <- powerset xs]"
   ]
  },
  {
   "cell_type": "code",
   "execution_count": 29,
   "metadata": {},
   "outputs": [
    {
     "data": {
      "text/html": [
       "<style>/* Styles used for the Hoogle display in the pager */\n",
       ".hoogle-doc {\n",
       "display: block;\n",
       "padding-bottom: 1.3em;\n",
       "padding-left: 0.4em;\n",
       "}\n",
       ".hoogle-code {\n",
       "display: block;\n",
       "font-family: monospace;\n",
       "white-space: pre;\n",
       "}\n",
       ".hoogle-text {\n",
       "display: block;\n",
       "}\n",
       ".hoogle-name {\n",
       "color: green;\n",
       "font-weight: bold;\n",
       "}\n",
       ".hoogle-head {\n",
       "font-weight: bold;\n",
       "}\n",
       ".hoogle-sub {\n",
       "display: block;\n",
       "margin-left: 0.4em;\n",
       "}\n",
       ".hoogle-package {\n",
       "font-weight: bold;\n",
       "font-style: italic;\n",
       "}\n",
       ".hoogle-module {\n",
       "font-weight: bold;\n",
       "}\n",
       ".hoogle-class {\n",
       "font-weight: bold;\n",
       "}\n",
       ".get-type {\n",
       "color: green;\n",
       "font-weight: bold;\n",
       "font-family: monospace;\n",
       "display: block;\n",
       "white-space: pre-wrap;\n",
       "}\n",
       ".show-type {\n",
       "color: green;\n",
       "font-weight: bold;\n",
       "font-family: monospace;\n",
       "margin-left: 1em;\n",
       "}\n",
       ".mono {\n",
       "font-family: monospace;\n",
       "display: block;\n",
       "}\n",
       ".err-msg {\n",
       "color: red;\n",
       "font-style: italic;\n",
       "font-family: monospace;\n",
       "white-space: pre;\n",
       "display: block;\n",
       "}\n",
       "#unshowable {\n",
       "color: red;\n",
       "font-weight: bold;\n",
       "}\n",
       ".err-msg.in.collapse {\n",
       "padding-top: 0.7em;\n",
       "}\n",
       ".highlight-code {\n",
       "white-space: pre;\n",
       "font-family: monospace;\n",
       "}\n",
       ".suggestion-warning { \n",
       "font-weight: bold;\n",
       "color: rgb(200, 130, 0);\n",
       "}\n",
       ".suggestion-error { \n",
       "font-weight: bold;\n",
       "color: red;\n",
       "}\n",
       ".suggestion-name {\n",
       "font-weight: bold;\n",
       "}\n",
       "</style><div class=\"suggestion-name\" style=\"clear:both;\">Move map inside list comprehension</div><div class=\"suggestion-row\" style=\"float: left;\"><div class=\"suggestion-warning\">Found:</div><div class=\"highlight-code\" id=\"haskell\">map (\\ i -> i ++ [f i])\n",
       "  [map (`elem` x) [1 .. n] | x <- powerset [1 .. n]]</div></div><div class=\"suggestion-row\" style=\"float: left;\"><div class=\"suggestion-warning\">Why Not:</div><div class=\"highlight-code\" id=\"haskell\">[(\\ i -> i ++ [f i]) (map (`elem` x) [1 .. n]) |\n",
       " x <- powerset [1 .. n]]</div></div>"
      ],
      "text/plain": [
       "Line 1: Move map inside list comprehension\n",
       "Found:\n",
       "map (\\ i -> i ++ [f i])\n",
       "  [map (`elem` x) [1 .. n] | x <- powerset [1 .. n]]\n",
       "Why not:\n",
       "[(\\ i -> i ++ [f i]) (map (`elem` x) [1 .. n]) |\n",
       " x <- powerset [1 .. n]]"
      ]
     },
     "metadata": {},
     "output_type": "display_data"
    }
   ],
   "source": [
    "table n f = map (\\i -> i ++ [f i]) [map (`elem` x) [1 .. n] | x <- powerset [1 .. n]]"
   ]
  },
  {
   "cell_type": "code",
   "execution_count": 30,
   "metadata": {},
   "outputs": [
    {
     "data": {
      "text/plain": [
       "[[False,False,False],[False,True,False],[True,False,False],[True,True,True]]"
      ]
     },
     "metadata": {},
     "output_type": "display_data"
    }
   ],
   "source": [
    "table 2 (\\[a, b] -> and' a b)"
   ]
  },
  {
   "cell_type": "code",
   "execution_count": 32,
   "metadata": {},
   "outputs": [
    {
     "data": {
      "text/html": [
       "<style>/* Styles used for the Hoogle display in the pager */\n",
       ".hoogle-doc {\n",
       "display: block;\n",
       "padding-bottom: 1.3em;\n",
       "padding-left: 0.4em;\n",
       "}\n",
       ".hoogle-code {\n",
       "display: block;\n",
       "font-family: monospace;\n",
       "white-space: pre;\n",
       "}\n",
       ".hoogle-text {\n",
       "display: block;\n",
       "}\n",
       ".hoogle-name {\n",
       "color: green;\n",
       "font-weight: bold;\n",
       "}\n",
       ".hoogle-head {\n",
       "font-weight: bold;\n",
       "}\n",
       ".hoogle-sub {\n",
       "display: block;\n",
       "margin-left: 0.4em;\n",
       "}\n",
       ".hoogle-package {\n",
       "font-weight: bold;\n",
       "font-style: italic;\n",
       "}\n",
       ".hoogle-module {\n",
       "font-weight: bold;\n",
       "}\n",
       ".hoogle-class {\n",
       "font-weight: bold;\n",
       "}\n",
       ".get-type {\n",
       "color: green;\n",
       "font-weight: bold;\n",
       "font-family: monospace;\n",
       "display: block;\n",
       "white-space: pre-wrap;\n",
       "}\n",
       ".show-type {\n",
       "color: green;\n",
       "font-weight: bold;\n",
       "font-family: monospace;\n",
       "margin-left: 1em;\n",
       "}\n",
       ".mono {\n",
       "font-family: monospace;\n",
       "display: block;\n",
       "}\n",
       ".err-msg {\n",
       "color: red;\n",
       "font-style: italic;\n",
       "font-family: monospace;\n",
       "white-space: pre;\n",
       "display: block;\n",
       "}\n",
       "#unshowable {\n",
       "color: red;\n",
       "font-weight: bold;\n",
       "}\n",
       ".err-msg.in.collapse {\n",
       "padding-top: 0.7em;\n",
       "}\n",
       ".highlight-code {\n",
       "white-space: pre;\n",
       "font-family: monospace;\n",
       "}\n",
       ".suggestion-warning { \n",
       "font-weight: bold;\n",
       "color: rgb(200, 130, 0);\n",
       "}\n",
       ".suggestion-error { \n",
       "font-weight: bold;\n",
       "color: red;\n",
       "}\n",
       ".suggestion-name {\n",
       "font-weight: bold;\n",
       "}\n",
       "</style><div class=\"suggestion-name\" style=\"clear:both;\">Redundant bracket</div><div class=\"suggestion-row\" style=\"float: left;\"><div class=\"suggestion-warning\">Found:</div><div class=\"highlight-code\" id=\"haskell\">\\ [a, b] -> (and' a (or' a b))</div></div><div class=\"suggestion-row\" style=\"float: left;\"><div class=\"suggestion-warning\">Why Not:</div><div class=\"highlight-code\" id=\"haskell\">\\ [a, b] -> and' a (or' a b)</div></div>"
      ],
      "text/plain": [
       "Line 1: Redundant bracket\n",
       "Found:\n",
       "\\ [a, b] -> (and' a (or' a b))\n",
       "Why not:\n",
       "\\ [a, b] -> and' a (or' a b)"
      ]
     },
     "metadata": {},
     "output_type": "display_data"
    },
    {
     "data": {
      "text/plain": [
       "[[False,False,False],[False,True,False],[True,False,True],[True,True,True]]"
      ]
     },
     "metadata": {},
     "output_type": "display_data"
    }
   ],
   "source": [
    "table 2 (\\[a, b] -> (and' a (or' a b)))"
   ]
  },
  {
   "cell_type": "markdown",
   "metadata": {},
   "source": [
    "# Problem 49"
   ]
  },
  {
   "cell_type": "raw",
   "metadata": {},
   "source": [
    "λ> gray 3\n",
    "[\"000\",\"001\",\"011\",\"010\",\"110\",\"111\",\"101\",\"100\"]"
   ]
  },
  {
   "cell_type": "raw",
   "metadata": {},
   "source": [
    "n = 1: C(1) = ['0','1'].\n",
    "n = 2: C(2) = ['00','01','11','10'].\n",
    "n = 3: C(3) = ['000','001','011','010',´110´,´111´,´101´,´100´]."
   ]
  },
  {
   "cell_type": "code",
   "execution_count": 56,
   "metadata": {},
   "outputs": [
    {
     "data": {
      "text/html": [
       "<style>/* Styles used for the Hoogle display in the pager */\n",
       ".hoogle-doc {\n",
       "display: block;\n",
       "padding-bottom: 1.3em;\n",
       "padding-left: 0.4em;\n",
       "}\n",
       ".hoogle-code {\n",
       "display: block;\n",
       "font-family: monospace;\n",
       "white-space: pre;\n",
       "}\n",
       ".hoogle-text {\n",
       "display: block;\n",
       "}\n",
       ".hoogle-name {\n",
       "color: green;\n",
       "font-weight: bold;\n",
       "}\n",
       ".hoogle-head {\n",
       "font-weight: bold;\n",
       "}\n",
       ".hoogle-sub {\n",
       "display: block;\n",
       "margin-left: 0.4em;\n",
       "}\n",
       ".hoogle-package {\n",
       "font-weight: bold;\n",
       "font-style: italic;\n",
       "}\n",
       ".hoogle-module {\n",
       "font-weight: bold;\n",
       "}\n",
       ".hoogle-class {\n",
       "font-weight: bold;\n",
       "}\n",
       ".get-type {\n",
       "color: green;\n",
       "font-weight: bold;\n",
       "font-family: monospace;\n",
       "display: block;\n",
       "white-space: pre-wrap;\n",
       "}\n",
       ".show-type {\n",
       "color: green;\n",
       "font-weight: bold;\n",
       "font-family: monospace;\n",
       "margin-left: 1em;\n",
       "}\n",
       ".mono {\n",
       "font-family: monospace;\n",
       "display: block;\n",
       "}\n",
       ".err-msg {\n",
       "color: red;\n",
       "font-style: italic;\n",
       "font-family: monospace;\n",
       "white-space: pre;\n",
       "display: block;\n",
       "}\n",
       "#unshowable {\n",
       "color: red;\n",
       "font-weight: bold;\n",
       "}\n",
       ".err-msg.in.collapse {\n",
       "padding-top: 0.7em;\n",
       "}\n",
       ".highlight-code {\n",
       "white-space: pre;\n",
       "font-family: monospace;\n",
       "}\n",
       ".suggestion-warning { \n",
       "font-weight: bold;\n",
       "color: rgb(200, 130, 0);\n",
       "}\n",
       ".suggestion-error { \n",
       "font-weight: bold;\n",
       "color: red;\n",
       "}\n",
       ".suggestion-name {\n",
       "font-weight: bold;\n",
       "}\n",
       "</style><div class=\"suggestion-name\" style=\"clear:both;\">Redundant bracket</div><div class=\"suggestion-row\" style=\"float: left;\"><div class=\"suggestion-warning\">Found:</div><div class=\"highlight-code\" id=\"haskell\">(map (\"0\" ++) (gray (n - 1))) ++\n",
       "  map (\"1\" ++) (reverse (gray (n - 1)))</div></div><div class=\"suggestion-row\" style=\"float: left;\"><div class=\"suggestion-warning\">Why Not:</div><div class=\"highlight-code\" id=\"haskell\">map (\"0\" ++) (gray (n - 1)) ++\n",
       "  map (\"1\" ++) (reverse (gray (n - 1)))</div></div>"
      ],
      "text/plain": [
       "Line 5: Redundant bracket\n",
       "Found:\n",
       "(map (\"0\" ++) (gray (n - 1))) ++\n",
       "  map (\"1\" ++) (reverse (gray (n - 1)))\n",
       "Why not:\n",
       "map (\"0\" ++) (gray (n - 1)) ++\n",
       "  map (\"1\" ++) (reverse (gray (n - 1)))"
      ]
     },
     "metadata": {},
     "output_type": "display_data"
    }
   ],
   "source": [
    "gray :: Int -> [String]\n",
    "\n",
    "gray 0 = []\n",
    "gray 1 = [\"0\", \"1\"]\n",
    "gray n = (map (\"0\"++) (gray (n-1))) ++ map (\"1\"++) (reverse (gray (n-1)))"
   ]
  },
  {
   "cell_type": "code",
   "execution_count": 61,
   "metadata": {},
   "outputs": [
    {
     "data": {
      "text/plain": [
       "[\"000\",\"001\",\"011\",\"010\",\"110\",\"111\",\"101\",\"100\"]"
      ]
     },
     "metadata": {},
     "output_type": "display_data"
    }
   ],
   "source": [
    "gray 3"
   ]
  },
  {
   "cell_type": "markdown",
   "metadata": {},
   "source": [
    "# Problem 50"
   ]
  },
  {
   "cell_type": "raw",
   "metadata": {},
   "source": [
    "λ> huffman [('a',45),('b',13),('c',12),('d',16),('e',9),('f',5)]\n",
    "[('a',\"0\"),('b',\"101\"),('c',\"100\"),('d',\"111\"),('e',\"1101\"),('f',\"1100\")]"
   ]
  },
  {
   "cell_type": "code",
   "execution_count": 227,
   "metadata": {},
   "outputs": [],
   "source": [
    "data BinTree = Leaf Int Char | Branch Int BinTree BinTree\n",
    "    deriving (Show)\n",
    "\n",
    "instance Eq BinTree where\n",
    "  (Leaf a _) == (Leaf b _) = a == b\n",
    "  (Leaf a _) == (Branch b _ _) = a == b\n",
    "  (Branch a _ _) == (Leaf b _) = a == b\n",
    "  (Branch a _ _) == (Branch b _ _) = a == b\n",
    "    \n",
    "instance Ord BinTree where\n",
    "    compare (Leaf a _) (Leaf b _) \n",
    "        | a == b    = EQ  \n",
    "        | a <= b    = LT  \n",
    "        | otherwise = GT\n",
    "        \n",
    "    compare (Leaf a _) (Branch b _ _) \n",
    "        | a == b    = EQ  \n",
    "        | a <= b    = LT  \n",
    "        | otherwise = GT\n",
    "        \n",
    "    compare (Branch a _ _) (Leaf b _) \n",
    "        | a == b    = EQ  \n",
    "        | a <= b    = LT  \n",
    "        | otherwise = GT\n",
    "        \n",
    "    compare (Branch a _ _) (Branch b _ _) \n",
    "        | a == b    = EQ  \n",
    "        | a <= b    = LT  \n",
    "        | otherwise = GT"
   ]
  },
  {
   "cell_type": "code",
   "execution_count": 228,
   "metadata": {},
   "outputs": [],
   "source": [
    "mkleaf (a, b) = Leaf b a\n",
    "\n",
    "joinBtree (Branch a1 a2 a3) (Branch b1 b2 b3) = Branch (a1+b1) (Branch a1 a2 a3) (Branch b1 b2 b3)\n",
    "joinBtree (Branch c d e) (Leaf a b) = Branch (a+c) (Branch c d e) (Leaf a b)\n",
    "joinBtree (Leaf a b) (Branch c d e) = Branch (a+c) (Leaf a b) (Branch c d e)\n",
    "joinBtree (Leaf a1 b1) (Leaf a2 b2) = Branch (a1+a2) (Leaf a1 b1) (Leaf a2 b2)"
   ]
  },
  {
   "cell_type": "code",
   "execution_count": 229,
   "metadata": {},
   "outputs": [],
   "source": [
    "buildTree [a] = [a]\n",
    "buildTree (a:b:xs) = buildTree (sort (joinBtree a b:xs))"
   ]
  },
  {
   "cell_type": "code",
   "execution_count": 230,
   "metadata": {},
   "outputs": [],
   "source": [
    "decodeTree (Leaf a b) = [[]]\n",
    "decodeTree (Branch a b c) = [\"0\" ++ x | x <- decodeTree b ] ++ [\"1\" ++ x | x <- decodeTree c]"
   ]
  },
  {
   "cell_type": "code",
   "execution_count": 231,
   "metadata": {},
   "outputs": [],
   "source": [
    "decodeTree' (Leaf a b) = [[b]]\n",
    "decodeTree' (Branch a b c) = decodeTree' b ++ decodeTree' c"
   ]
  },
  {
   "cell_type": "code",
   "execution_count": 232,
   "metadata": {},
   "outputs": [],
   "source": [
    "huffman a = zip nam hfm\n",
    "    where\n",
    "        tree = buildTree $ sort $ map mkleaf a\n",
    "        nam = decodeTree' $ head tree\n",
    "        hfm = decodeTree $ head tree"
   ]
  },
  {
   "cell_type": "code",
   "execution_count": 233,
   "metadata": {},
   "outputs": [
    {
     "data": {
      "text/plain": [
       "[(\"a\",\"0\"),(\"c\",\"100\"),(\"b\",\"101\"),(\"f\",\"1100\"),(\"e\",\"1101\"),(\"d\",\"111\")]"
      ]
     },
     "metadata": {},
     "output_type": "display_data"
    }
   ],
   "source": [
    "huffman [('a',45),('b',13),('c',12),('d',16),('e',9),('f',5)]"
   ]
  },
  {
   "cell_type": "raw",
   "metadata": {},
   "source": [
    "λ> huffman [('a',45),('b',13),('c',12),('d',16),('e',9),('f',5)]\n",
    "[('a',\"0\"),('b',\"101\"),('c',\"100\"),('d',\"111\"),('e',\"1101\"),('f',\"1100\")]"
   ]
  },
  {
   "cell_type": "code",
   "execution_count": null,
   "metadata": {},
   "outputs": [],
   "source": []
  }
 ],
 "metadata": {
  "kernelspec": {
   "display_name": "Haskell",
   "language": "haskell",
   "name": "haskell"
  },
  "language_info": {
   "codemirror_mode": "ihaskell",
   "file_extension": ".hs",
   "name": "haskell",
   "pygments_lexer": "Haskell",
   "version": "8.6.5"
  }
 },
 "nbformat": 4,
 "nbformat_minor": 4
}
